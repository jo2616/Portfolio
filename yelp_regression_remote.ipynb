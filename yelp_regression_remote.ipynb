import pandas as pd

businesses = pd.read_json('yelp_business.json',lines=True)
reviews = pd.read_json('yelp_review.json',lines=True)
users = pd.read_json('yelp_user.json',lines=True)
checkins = pd.read_json('yelp_checkin.json',lines=True)
tips = pd.read_json('yelp_tip.json',lines=True)
photos = pd.read_json('yelp_photo.json',lines=True)

#Adjust the number of columns and the number of characters shown in a column
pd.options.display.max_columns = 60
pd.options.display.max_colwidth = 500

#Inspect the rows of each DataFrame
businesses.head()
reviews.head()
users.head()
checkins.head()
tips.head()
photos.head()

#Determine how many businesses are in the dataset and its features
print(len(businesses))
print(reviews.columns)

users.describe()

#The Yelp rating of an establishment--used Pandas boolean indexing to find the Yelp rating
businesses[businesses['business_id'] == '5EvUIR4IzCWUOm0PsUZXjA']['stars']

#Working with data from several files, we combine the data into a single DataFrame to analyze different features with respect to a target variable
#Merge multiple DataFrames together by joining them on the columns that are in common
df = pd.merge(businesses, reviews, how='left', on='business_id')
df = pd.merge(df, users, how='left', on='business_id')
df = pd.merge(df, checkins, how='left', on='business_id')
df = pd.merge(df, tips, how='left', on='business_id')
df = pd.merge(df, photos, how='left', on='business_id')

#To make a linear regression model, our features need to be either continuous variables or binary
#Removed all other data types from the columns in the dataset
features_to_remove = ['address','attributes','business_id','categories','city','hours','is_open','latitude','longitude','name','neighborhood','postal_code','state','time']
df.drop(labels=features_to_remove, axis=1, inplace=True)

#Check for missing values or NaNs
df.isna().any()

#Fill any missing values or NaNs
df.fillna({'weekday_checkins':0, 
            'weekend_checkins':0,
            'average_tip_length':0, 
            'number_tips':0, 
            'average_caption_length':0, 
            'number_pics':0}, 
            inplace=True
)
df.isna().any()



